{
 "cells": [
  {
   "cell_type": "markdown",
   "id": "9e62585a",
   "metadata": {},
   "source": [
    "# Naive Bayers Classifier Project"
   ]
  },
  {
   "cell_type": "markdown",
   "id": "564f7a0c",
   "metadata": {},
   "source": [
    "## Email Similarity"
   ]
  },
  {
   "cell_type": "code",
   "execution_count": 1,
   "id": "1c6e8405",
   "metadata": {},
   "outputs": [],
   "source": [
    "from sklearn.datasets import fetch_20newsgroups\n",
    "from sklearn.naive_bayes import MultinomialNB\n",
    "from sklearn.feature_extraction.text import CountVectorizer"
   ]
  },
  {
   "cell_type": "markdown",
   "id": "bc6fbb90",
   "metadata": {},
   "source": [
    "### Making the Training Sets"
   ]
  },
  {
   "cell_type": "code",
   "execution_count": 2,
   "id": "f3e7bca3",
   "metadata": {},
   "outputs": [
    {
     "name": "stdout",
     "output_type": "stream",
     "text": [
      "['comp.sys.ibm.pc.hardware', 'rec.sport.hockey']\n"
     ]
    }
   ],
   "source": [
    "train_emails = fetch_20newsgroups(categories = ['comp.sys.ibm.pc.hardware','rec.sport.hockey'],\n",
    "subset='train',\n",
    "shuffle = True,\n",
    "random_state = 108\n",
    ")\n",
    "print(train_emails.target_names)"
   ]
  },
  {
   "cell_type": "code",
   "execution_count": 3,
   "id": "f55005cd",
   "metadata": {},
   "outputs": [
    {
     "name": "stdout",
     "output_type": "stream",
     "text": [
      "From: harter5255@iscsvax.uni.edu\n",
      "Subject: Help on hand scanners wanted\n",
      "Organization: University of Northern Iowa\n",
      "Lines: 30\n",
      "\n",
      "Fellow netters,\n",
      "\n",
      "I'm in the market for a hand scanner.  However, I don't know anyone who has\n",
      "one.  I have my eye on two choices.\n",
      "\n",
      "Dexxa:  This scanner is available at Wal-Mart for $90.  It includes GrayWorks\n",
      "software and provides 400 dpi and 32 grayscales (I think).  The OCR software\n",
      "Catchword is available through mail-order for about $90 also.\n",
      "\n",
      "Mustek:  (Gray Artist for Windows)  This scanner offers 256 grayscales\n",
      "(according to Cad & Graphics) and 800 dpi.  It is available for $169\n",
      "mail-order and comes with Perceive OCR and Picture Publisher LE.\n",
      "\n",
      "I am also looking at a Genius hand scanner (B105) from Cad & Graphics.  It\n",
      "is basically the same as the Mustek scanner except for the resolution (400\n",
      "dpi) and price ($149).  \n",
      "\n",
      "Basically, I would like recommendations on which to buy.  I have heard that\n",
      "Logitech makes the best and manufactures Dexxa scanners.  But which one is the\n",
      "best buy?  Would 800 dpi really be helpful (output would be no better than HP\n",
      "LaserJet III or Canon BJ-200 - 300x300 to 360x360)?  I am leaning toward the\n",
      "Mustek because it offers the most features and is in the middle in terms of\n",
      "prices.  Which should I buy?\n",
      "\n",
      "If you have a hand scanner, please let me know whether or not you would\n",
      "recommend it.  Also, if you know of another scanner within the price range\n",
      "(under $225) that would be a better deal, please E-Mail me.  Any and all help\n",
      "would be greatly appreciated.\n",
      "\n",
      "- Kevin Harter\n",
      "\n"
     ]
    }
   ],
   "source": [
    "print(train_emails.data[5])"
   ]
  },
  {
   "cell_type": "code",
   "execution_count": 4,
   "id": "6f511bc2",
   "metadata": {},
   "outputs": [
    {
     "name": "stdout",
     "output_type": "stream",
     "text": [
      "0\n"
     ]
    }
   ],
   "source": [
    "print(train_emails.target[5])"
   ]
  },
  {
   "cell_type": "markdown",
   "id": "e47bc63d",
   "metadata": {},
   "source": [
    "### Making the Test Sets"
   ]
  },
  {
   "cell_type": "code",
   "execution_count": 5,
   "id": "937fa005",
   "metadata": {},
   "outputs": [],
   "source": [
    "test_emails = fetch_20newsgroups(categories = ['comp.sys.ibm.pc.hardware','rec.sport.hockey'],\n",
    "subset='test',\n",
    "shuffle = True,\n",
    "random_state = 108\n",
    ")"
   ]
  },
  {
   "cell_type": "markdown",
   "id": "208b5552",
   "metadata": {},
   "source": [
    "### Counting Words"
   ]
  },
  {
   "cell_type": "code",
   "execution_count": 6,
   "id": "4fb1a48a",
   "metadata": {},
   "outputs": [],
   "source": [
    "counter = CountVectorizer()\n",
    "counter.fit(test_emails.data + train_emails.data)\n",
    "train_counts = counter.transform(train_emails.data)\n",
    "test_counts = counter.transform(test_emails.data)"
   ]
  },
  {
   "cell_type": "markdown",
   "id": "8d82bc1a",
   "metadata": {},
   "source": [
    "### Making a Naive Bayes Classifier"
   ]
  },
  {
   "cell_type": "code",
   "execution_count": 7,
   "id": "c55936c7",
   "metadata": {},
   "outputs": [
    {
     "name": "stdout",
     "output_type": "stream",
     "text": [
      "0.9974715549936789\n"
     ]
    }
   ],
   "source": [
    "classifier = MultinomialNB()\n",
    "classifier.fit(train_counts, train_emails.target)\n",
    "print(classifier.score(test_counts, test_emails.target))"
   ]
  },
  {
   "cell_type": "code",
   "execution_count": null,
   "id": "9f40eed2",
   "metadata": {},
   "outputs": [],
   "source": []
  }
 ],
 "metadata": {
  "kernelspec": {
   "display_name": "Python 3 (ipykernel)",
   "language": "python",
   "name": "python3"
  },
  "language_info": {
   "codemirror_mode": {
    "name": "ipython",
    "version": 3
   },
   "file_extension": ".py",
   "mimetype": "text/x-python",
   "name": "python",
   "nbconvert_exporter": "python",
   "pygments_lexer": "ipython3",
   "version": "3.8.11"
  }
 },
 "nbformat": 4,
 "nbformat_minor": 5
}
